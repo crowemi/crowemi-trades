{
 "cells": [
  {
   "cell_type": "code",
   "execution_count": null,
   "metadata": {},
   "outputs": [],
   "source": [
    "import os\n",
    "from crowemi_trades.storage.s3_storage import S3Storage\n",
    "from crowemi_trades.indicators.smma_indicator import SmmaIndicator\n",
    "import polars as pl\n",
    "import duckdb"
   ]
  },
  {
   "cell_type": "code",
   "execution_count": null,
   "metadata": {},
   "outputs": [],
   "source": [
    "stor = S3Storage(\n",
    "    access_key=os.getenv(\"AWS_ACCESS_KEY_ID\", None),\n",
    "    secret_access_key=os.getenv(\"AWS_SECRET_ACCESS_KEY\", None),\n",
    "    region=\"us-west-2\"\n",
    ")\n",
    "t = stor.read_parquet(bucket=\"crowemi-trades\", key=\"C:EURUSD/minute/5/2023/04/20230412.parquet.gzip\",)\n",
    "t.head()\n"
   ]
  },
  {
   "cell_type": "code",
   "execution_count": null,
   "metadata": {},
   "outputs": [],
   "source": [
    "from crowemi_trades.indicators.smma_indicator import SmmaIndicator\n",
    "\n",
    "results = pl.from_records(t['results']).sort(\"ts\")\n",
    "sum = SmmaIndicator.generate_period_sum(results, 5)\n",
    "sum.head()"
   ]
  },
  {
   "cell_type": "code",
   "execution_count": null,
   "metadata": {},
   "outputs": [],
   "source": [
    "ret = SmmaIndicator()\n",
    "d = ret.run(results, period=5)\n",
    "d.head(100)"
   ]
  }
 ],
 "metadata": {
  "kernelspec": {
   "display_name": ".venv",
   "language": "python",
   "name": "python3"
  },
  "language_info": {
   "codemirror_mode": {
    "name": "ipython",
    "version": 3
   },
   "file_extension": ".py",
   "mimetype": "text/x-python",
   "name": "python",
   "nbconvert_exporter": "python",
   "pygments_lexer": "ipython3",
   "version": "3.9.16"
  },
  "orig_nbformat": 4
 },
 "nbformat": 4,
 "nbformat_minor": 2
}
